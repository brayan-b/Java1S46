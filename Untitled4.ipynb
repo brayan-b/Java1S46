{
  "nbformat": 4,
  "nbformat_minor": 0,
  "metadata": {
    "colab": {
      "name": "Untitled4.ipynb",
      "provenance": [],
      "collapsed_sections": [],
      "authorship_tag": "ABX9TyNIP5kfT9bub/mJGt45OM7h",
      "include_colab_link": true
    },
    "kernelspec": {
      "name": "python3",
      "display_name": "Python 3"
    },
    "language_info": {
      "name": "python"
    }
  },
  "cells": [
    {
      "cell_type": "markdown",
      "metadata": {
        "id": "view-in-github",
        "colab_type": "text"
      },
      "source": [
        "<a href=\"https://colab.research.google.com/github/brayan-b/Java1S46/blob/main/Untitled4.ipynb\" target=\"_parent\"><img src=\"https://colab.research.google.com/assets/colab-badge.svg\" alt=\"Open In Colab\"/></a>"
      ]
    },
    {
      "cell_type": "code",
      "execution_count": 6,
      "metadata": {
        "colab": {
          "base_uri": "https://localhost:8080/"
        },
        "id": "nc6gimWDjgva",
        "outputId": "2bd9049c-4de6-4962-8014-3422706afe84"
      },
      "outputs": [
        {
          "output_type": "stream",
          "name": "stdout",
          "text": [
            "IPython console for SymPy 1.7.1 (Python 3.7.12-64-bit) (ground types: python)\n",
            "\n",
            "These commands were executed:\n",
            ">>> from __future__ import division\n",
            ">>> from sympy import *\n",
            ">>> x, y, z, t = symbols('x y z t')\n",
            ">>> k, m, n = symbols('k m n', integer=True)\n",
            ">>> f, g, h = symbols('f g h', cls=Function)\n",
            ">>> init_printing()\n",
            "\n",
            "Documentation can be found at https://docs.sympy.org/1.7.1/\n",
            "\n"
          ]
        }
      ],
      "source": [
        "from sympy.printing import latex\n",
        "import sympy\n",
        "from sympy import init_session\n",
        "init_session(use_latex=True)\n"
      ]
    },
    {
      "cell_type": "code",
      "source": [
        "print('Digite la funcion con x,y')\n",
        "expresion1 = input()\n",
        "expresion2 = input()\n",
        "expresion3 = input()\n",
        "x_1= diff(expresion1,x,1)\n",
        "y_1= diff(expresion2,x,1)\n",
        "z_1= diff(expresion3,x,1)\n",
        "x_2= diff(expresion1,y,1)\n",
        "y_2= diff(expresion2,y,1)\n",
        "z_2= diff(expresion3,y,1)\n",
        "x_11= diff(expresion1,x,2)\n",
        "y_11= diff(expresion2,x,2)\n",
        "z_11= diff(expresion3,x,2)\n",
        "x_22= diff(expresion1,y,2)\n",
        "y_22= diff(expresion2,y,2)\n",
        "z_22= diff(expresion3,y,2)\n",
        "x_12= diff(expresion1,x,1,y,1)\n",
        "y_12= diff(expresion2,x,1,y,1)\n",
        "z_12= diff(expresion3,x,1,y,1)\n",
        "E=x_1*x_1+y_1*y_1+z_1*z_1\n",
        "F=x_1*x_2+y_1*y_2+z_1*z_2\n",
        "G=x_2*x_2+y_2*y_2+z_2*z_2\n",
        "N_1=(y_1*z_2-y_2*z_1)/sqrt(E*G-F**2)\n",
        "N_2=(z_1*x_2-x_1*z_2)/sqrt(E*G-F**2)\n",
        "N_3=(x_1*y_2-y_1*x_2)/sqrt(E*G-F**2)\n",
        "e=N_1*x_11+N_2*y_11+N_3*z_11\n",
        "f=N_1*x_12+N_2*y_12+N_3*z_12\n",
        "g=N_1*x_22+N_2*y_22+N_3*z_22\n",
        "\n",
        "\n",
        "\n"
      ],
      "metadata": {
        "colab": {
          "base_uri": "https://localhost:8080/"
        },
        "id": "9FKv2FWJjpVd",
        "outputId": "38a82096-2940-4ef4-f882-c29a842086b9"
      },
      "execution_count": 7,
      "outputs": [
        {
          "name": "stdout",
          "output_type": "stream",
          "text": [
            "Digite la funcion con x,y\n",
            "cosh(x)*cos(y)\n",
            "cosh(x)*sin(y)\n",
            "x\n"
          ]
        }
      ]
    },
    {
      "cell_type": "code",
      "source": [
        "#coeficientes de la primera forma fundamental \n",
        "print(E)\n",
        "simplify(E)\n"
      ],
      "metadata": {
        "colab": {
          "base_uri": "https://localhost:8080/",
          "height": 57
        },
        "id": "GyIHu_jImrnz",
        "outputId": "8205a616-56e1-4ad1-9129-edefd88ca5d1"
      },
      "execution_count": 8,
      "outputs": [
        {
          "output_type": "stream",
          "name": "stdout",
          "text": [
            "sin(y)**2*sinh(x)**2 + cos(y)**2*sinh(x)**2 + 1\n"
          ]
        },
        {
          "output_type": "execute_result",
          "data": {
            "image/png": "[encoded data removed]",
            "text/latex": "$\\displaystyle \\cosh^{2}{\\left(x \\right)}$",
            "text/plain": [
              "    2   \n",
              "cosh (x)"
            ]
          },
          "metadata": {},
          "execution_count": 8
        }
      ]
    },
    {
      "cell_type": "code",
      "source": [
        "print(F)\n",
        "simplify(F)\n"
      ],
      "metadata": {
        "colab": {
          "base_uri": "https://localhost:8080/",
          "height": 55
        },
        "id": "EYsmp39Xmz6y",
        "outputId": "b057edbb-b4da-4fba-dc00-13593a0b5dc8"
      },
      "execution_count": 9,
      "outputs": [
        {
          "output_type": "stream",
          "name": "stdout",
          "text": [
            "0\n"
          ]
        },
        {
          "output_type": "execute_result",
          "data": {
            "image/png": "[encoded data removed]",
            "text/latex": "$\\displaystyle 0$",
            "text/plain": [
              "0"
            ]
          },
          "metadata": {},
          "execution_count": 9
        }
      ]
    },
    {
      "cell_type": "code",
      "source": [
        "print(G)\n",
        "simplify(G)"
      ],
      "metadata": {
        "colab": {
          "base_uri": "https://localhost:8080/",
          "height": 57
        },
        "id": "eimLzTfrm2ps",
        "outputId": "e616c9b9-9ee5-4e6e-8e14-2f50b919dc90"
      },
      "execution_count": 10,
      "outputs": [
        {
          "output_type": "stream",
          "name": "stdout",
          "text": [
            "sin(y)**2*cosh(x)**2 + cos(y)**2*cosh(x)**2\n"
          ]
        },
        {
          "output_type": "execute_result",
          "data": {
            "image/png": "[encoded data removed]",
            "text/latex": "$\\displaystyle \\cosh^{2}{\\left(x \\right)}$",
            "text/plain": [
              "    2   \n",
              "cosh (x)"
            ]
          },
          "metadata": {},
          "execution_count": 10
        }
      ]
    },
    {
      "cell_type": "code",
      "source": [
        "#coeficientes de la segunda forma fundamental \n",
        "print(e)\n",
        "simplify(e)\n"
      ],
      "metadata": {
        "colab": {
          "base_uri": "https://localhost:8080/",
          "height": 111
        },
        "id": "4edro6nlm9Gb",
        "outputId": "e81251b2-eaf9-4291-e1fa-f0d17b56c2e4"
      },
      "execution_count": 11,
      "outputs": [
        {
          "output_type": "stream",
          "name": "stdout",
          "text": [
            "-sin(y)**2*cosh(x)**2/sqrt((sin(y)**2*cosh(x)**2 + cos(y)**2*cosh(x)**2)*(sin(y)**2*sinh(x)**2 + cos(y)**2*sinh(x)**2 + 1)) - cos(y)**2*cosh(x)**2/sqrt((sin(y)**2*cosh(x)**2 + cos(y)**2*cosh(x)**2)*(sin(y)**2*sinh(x)**2 + cos(y)**2*sinh(x)**2 + 1))\n"
          ]
        },
        {
          "output_type": "execute_result",
          "data": {
            "image/png": "[encoded data removed]",
            "text/latex": "$\\displaystyle - \\frac{\\cosh^{2}{\\left(x \\right)}}{\\sqrt{\\cosh^{4}{\\left(x \\right)}}}$",
            "text/plain": [
              "       2     \n",
              "  -cosh (x)  \n",
              "─────────────\n",
              "   __________\n",
              "  ╱     4    \n",
              "╲╱  cosh (x) "
            ]
          },
          "metadata": {},
          "execution_count": 11
        }
      ]
    },
    {
      "cell_type": "code",
      "source": [
        "print(f)\n",
        "simplify(f)\n"
      ],
      "metadata": {
        "colab": {
          "base_uri": "https://localhost:8080/",
          "height": 55
        },
        "id": "448nTGKNm_zz",
        "outputId": "addebf20-9d30-495c-cb18-3673286e769b"
      },
      "execution_count": 12,
      "outputs": [
        {
          "output_type": "stream",
          "name": "stdout",
          "text": [
            "0\n"
          ]
        },
        {
          "output_type": "execute_result",
          "data": {
            "image/png": "[encoded data removed]",
            "text/latex": "$\\displaystyle 0$",
            "text/plain": [
              "0"
            ]
          },
          "metadata": {},
          "execution_count": 12
        }
      ]
    },
    {
      "cell_type": "code",
      "source": [
        "print(g)\n",
        "simplify(g)\n"
      ],
      "metadata": {
        "colab": {
          "base_uri": "https://localhost:8080/",
          "height": 111
        },
        "id": "gr905TIInB79",
        "outputId": "867d1bc1-674c-4c8f-c372-a6513967e928"
      },
      "execution_count": 13,
      "outputs": [
        {
          "output_type": "stream",
          "name": "stdout",
          "text": [
            "sin(y)**2*cosh(x)**2/sqrt((sin(y)**2*cosh(x)**2 + cos(y)**2*cosh(x)**2)*(sin(y)**2*sinh(x)**2 + cos(y)**2*sinh(x)**2 + 1)) + cos(y)**2*cosh(x)**2/sqrt((sin(y)**2*cosh(x)**2 + cos(y)**2*cosh(x)**2)*(sin(y)**2*sinh(x)**2 + cos(y)**2*sinh(x)**2 + 1))\n"
          ]
        },
        {
          "output_type": "execute_result",
          "data": {
            "image/png": "[encoded data removed]",
            "text/latex": "$\\displaystyle \\frac{\\cosh^{2}{\\left(x \\right)}}{\\sqrt{\\cosh^{4}{\\left(x \\right)}}}$",
            "text/plain": [
              "       2     \n",
              "   cosh (x)  \n",
              "─────────────\n",
              "   __________\n",
              "  ╱     4    \n",
              "╲╱  cosh (x) "
            ]
          },
          "metadata": {},
          "execution_count": 13
        }
      ]
    },
    {
      "cell_type": "code",
      "source": [
        "#curvatura de gauss \n",
        "K=(e*g-f**2)/(E*G-F**2)\n",
        "simplify(K)"
      ],
      "metadata": {
        "colab": {
          "base_uri": "https://localhost:8080/",
          "height": 57
        },
        "id": "3kaEcRKfnICj",
        "outputId": "1cb26c44-62f8-4a5a-d75a-0bbee2b43128"
      },
      "execution_count": 14,
      "outputs": [
        {
          "output_type": "execute_result",
          "data": {
            "image/png": "[encoded data removed]",
            "text/latex": "$\\displaystyle - \\frac{1}{\\cosh^{4}{\\left(x \\right)}}$",
            "text/plain": [
              "  -1    \n",
              "────────\n",
              "    4   \n",
              "cosh (x)"
            ]
          },
          "metadata": {},
          "execution_count": 14
        }
      ]
    },
    {
      "cell_type": "code",
      "source": [
        "#curvatura media \n",
        "H= 1/2*(e*G-2*f*F+g*E)/(E*G-F**2)\n",
        "simplify(H)\n"
      ],
      "metadata": {
        "colab": {
          "base_uri": "https://localhost:8080/",
          "height": 38
        },
        "id": "7QB59a41nI4K",
        "outputId": "83d1d4b3-fd58-4c75-d587-ccdf80a9f65e"
      },
      "execution_count": 16,
      "outputs": [
        {
          "output_type": "execute_result",
          "data": {
            "image/png": "[encoded data removed]",
            "text/latex": "$\\displaystyle 0$",
            "text/plain": [
              "0"
            ]
          },
          "metadata": {},
          "execution_count": 16
        }
      ]
    }
  ]
}